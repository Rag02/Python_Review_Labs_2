{
 "cells": [
  {
   "cell_type": "markdown",
   "id": "2d4a0e4d",
   "metadata": {},
   "source": [
    "## Lab1-Lists\n",
    "Given the following list : [5, 4, 17, 19, 30, 2, 7, 10, 45]\n",
    "- Q1: Write a Python program to sum all the items in the list.\n",
    "- Q2: Write a Python program to get the largest number from the list.\n",
    "- Q3: Use list comprehension, create a new list from the above list containing only even numbers.\n",
    "- Q4: Use list slicing to get a new list from the previous list starting from the start to the 5th element in the list."
   ]
  },
  {
   "cell_type": "code",
   "execution_count": 2,
   "id": "88e0fe9c",
   "metadata": {},
   "outputs": [
    {
     "name": "stdout",
     "output_type": "stream",
     "text": [
      "Sum of all items in the list1: 139\n"
     ]
    }
   ],
   "source": [
    "#Q1\n",
    "list1 = [5, 4, 17, 19, 30, 2, 7, 10, 45]\n",
    "\n",
    "Sum = sum(list1)\n",
    "\n",
    "print(\"Sum of all items in the list1:\", Sum)"
   ]
  },
  {
   "cell_type": "code",
   "execution_count": 3,
   "id": "2a77f84b",
   "metadata": {},
   "outputs": [
    {
     "name": "stdout",
     "output_type": "stream",
     "text": [
      "Largest number in the list: 45\n"
     ]
    }
   ],
   "source": [
    "#Q2\n",
    "Largest_num = max(list1)\n",
    "print(\"Largest number in the list:\", Largest_num)\n"
   ]
  },
  {
   "cell_type": "code",
   "execution_count": 4,
   "id": "c70c9d60",
   "metadata": {},
   "outputs": [
    {
     "name": "stdout",
     "output_type": "stream",
     "text": [
      "New list wthe only even numbers: [4, 30, 2, 10]\n"
     ]
    }
   ],
   "source": [
    "#Q3\n",
    "Even_numbers = [num for num in list1 if num % 2 == 0]\n",
    "print(\"New list wthe only even numbers:\", Even_numbers)"
   ]
  },
  {
   "cell_type": "code",
   "execution_count": 5,
   "id": "46bdf76d",
   "metadata": {},
   "outputs": [
    {
     "name": "stdout",
     "output_type": "stream",
     "text": [
      "New list using list slicing: [5, 4, 17, 19, 30]\n"
     ]
    }
   ],
   "source": [
    "# Q4\n",
    "New_list = list1[:5]\n",
    "print(\"New list using list slicing:\", New_list)\n"
   ]
  },
  {
   "cell_type": "markdown",
   "id": "4df61e4c",
   "metadata": {},
   "source": [
    "## Lab2-Dictionary\n",
    "\n",
    "Build a phone book program that receives the phone number, and returns the name of the owner. \n",
    "You can follow the table below:\n",
    "\n",
    "| Name    | Number      |\n",
    "| -------- | ---------- |\n",
    "| Amal     | 1111111111 |\n",
    "| Mohammed | 2222222222 |\n",
    "| Khadijah | 3333333333 |\n",
    "| Abdullah  | 4444444444 |\n",
    "| Rawan    | 5555555555 |\n",
    "| Faisal   | 6666666666 |\n",
    "| Layla    | 7777777777 |\n",
    "\n",
    "\n",
    "- If the number exists, print the owner. Otherwise, print \"Sorry, the number is not found\".\n",
    "- If the number is less or more than 10 numbers, print \"This is invalid number\".\n",
    "- If the number contains letters or symbols, print \"This is invalid number\"."
   ]
  },
  {
   "cell_type": "code",
   "execution_count": 19,
   "id": "7d53c06c",
   "metadata": {},
   "outputs": [],
   "source": [
    "phone_book = {\n",
    "    \"1111111111\": \"Amal\",\n",
    "    \"2222222222\": \"Mohammed\",\n",
    "    \"3333333333\": \"Khadijah\",\n",
    "    \"4444444444\": \"Abdullah\",\n",
    "    \"5555555555\": \"Rawan\",\n",
    "    \"6666666666\": \"Faisal\",\n",
    "    \"7777777777\": \"Layla\"\n",
    "}"
   ]
  },
  {
   "cell_type": "code",
   "execution_count": 20,
   "id": "ffdffaec",
   "metadata": {},
   "outputs": [],
   "source": [
    "def find_owner(phone_number):\n",
    "    if not phone_number.isdigit() or len(phone_number) != 10:\n",
    "        print(\"This is an invalid number.\")\n",
    "    elif phone_number in phone_book:\n",
    "        print(\"Owner:\", phone_book[phone_number])\n",
    "    else:\n",
    "        print(\"Sorry, the number is not found.\")"
   ]
  },
  {
   "cell_type": "code",
   "execution_count": 21,
   "id": "93b05ba5",
   "metadata": {},
   "outputs": [
    {
     "name": "stdout",
     "output_type": "stream",
     "text": [
      "Owner: Khadijah\n"
     ]
    }
   ],
   "source": [
    "phone_number = input(\"Enter a 10-digit phone number: \")\n",
    "find_owner(phone_number)"
   ]
  }
 ],
 "metadata": {
  "kernelspec": {
   "display_name": "Python 3 (ipykernel)",
   "language": "python",
   "name": "python3"
  },
  "language_info": {
   "codemirror_mode": {
    "name": "ipython",
    "version": 3
   },
   "file_extension": ".py",
   "mimetype": "text/x-python",
   "name": "python",
   "nbconvert_exporter": "python",
   "pygments_lexer": "ipython3",
   "version": "3.10.5"
  }
 },
 "nbformat": 4,
 "nbformat_minor": 5
}
